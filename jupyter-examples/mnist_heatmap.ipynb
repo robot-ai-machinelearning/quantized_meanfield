{
 "cells": [
  {
   "cell_type": "code",
   "execution_count": 1,
   "metadata": {},
   "outputs": [],
   "source": [
    "import sys\n",
    "sys.path.insert(0, \"../src\")\n",
    "sys.path.insert(0, \"..\")\n",
    "import src\n",
    "import torch\n",
    "import matplotlib.pyplot as plt\n",
    "\n",
    "np.set_printoptions(precision=2)\n",
    "torch.cuda.empty_cache()"
   ]
  },
  {
   "cell_type": "markdown",
   "metadata": {},
   "source": [
    "This piece of code runs a grid search over layers and states to generate the right panel of Figure #3 (mnist result)\n",
    "The funciton to generate it is defined as:  \n",
    "def run_part_lin(name, start, end, gap , allstates ,deviceId, num_devices, reports = [100,200,400,800,1600], N = 2048):\n",
    "\n",
    "* name- the file where the results will be saved to\n",
    "* start - first layer to start the grid from\n",
    "* end - last leayer to run the grid on\n",
    "* gap - how much layers to jump over for the grid\n",
    "* allstates - the states that will appear on the X axis\n",
    "* deviceId - cuda device to use\n",
    "* num devices - number of devices working  on this job (to balance load between them)\n",
    "* reports - report test accuracy and training accuracy after how many steps?\n",
    "* N- width of the fully connected layers\n",
    "\n",
    "This grid search takes a long time to complete (~ day when distributed).  \n",
    "Using the commented-out code will generate the graph presented in the article.  \n",
    "The uncommented code will generate a more simple heatmap with very little details.\n",
    "To distribute the code, run a similar command with different cur_gpu and total_gpus values (This will not work from single jupyter notebook)"
   ]
  },
  {
   "cell_type": "code",
   "execution_count": null,
   "metadata": {},
   "outputs": [],
   "source": [
    "\n",
    "first_layer = 10\n",
    "last_layer = 135\n",
    "layers_skip = 25\n",
    "cur_gpu = 0\n",
    "total_gpus = 1\n",
    "reports = [100,200,400]\n",
    "\n",
    "##allstates = [3,4,5,6,7,8,9,10,11,12,13,14,15,16]\n",
    "allstates = [4,7,10]\n",
    "##mnist.run_part_lin(\"grid_all_v3\", first_layer, last_layer, layers_skip, allstates , cur_gpu, total_gpus)\n",
    "src.mnist.run_part_lin(\"example_states\", first_layer, last_layer, layers_skip, allstates , cur_gpu, total_gpus, reports = reports, N = 256)\n"
   ]
  },
  {
   "cell_type": "markdown",
   "metadata": {},
   "source": [
    "Generate the heatmaps and more:"
   ]
  },
  {
   "cell_type": "code",
   "execution_count": null,
   "metadata": {},
   "outputs": [],
   "source": [
    "import matplotlib.pyplot as plt\n",
    "\n",
    "results={}\n",
    "if (1):\n",
    "    ##aggregate the distributed results to a single objects\n",
    "    name = \"example_states\"\n",
    "    for i in range(4): ## 4 - maximum number of GPUs supported.\n",
    "        try:\n",
    "            results.update(mnist.load_obj(\"%s_%d\"% (name,i)))\n",
    "        except:\n",
    "            continue\n",
    "    mnist.save_obj(results,name)\n",
    "    \n",
    "if (1):\n",
    "    fig = plt.figure()\n",
    "    mnist.showgrid(name=name,steps=100,test=1, fig = fig , subplot=131)\n",
    "    mnist.showgrid(name=name,steps=200,test=1, fig = fig , subplot=132)\n",
    "    mnist.showgrid(name=name,steps=400,test=1, fig = fig , subplot=133)\n",
    "    plt.show()\n",
    "\n",
    "if (1):\n",
    "    fig = plt.figure()\n",
    "    mnist.showContour(name=name,steps=100,test=1, fig = fig , subplot=131, levels=3)\n",
    "    mnist.showContour(name=name,steps=200,test=1, fig = fig , subplot=132, levels=3)\n",
    "    mnist.showContour(name=name,steps=400,test=1, fig = fig , subplot=133, levels=3)\n",
    "    plt.gcf().set_size_inches(15, 5)\n",
    "\n",
    "    plt.show()\n",
    "\n"
   ]
  }
 ],
 "metadata": {
  "kernelspec": {
   "display_name": "Python 3",
   "language": "python",
   "name": "python3"
  },
  "language_info": {
   "codemirror_mode": {
    "name": "ipython",
    "version": 3
   },
   "file_extension": ".py",
   "mimetype": "text/x-python",
   "name": "python",
   "nbconvert_exporter": "python",
   "pygments_lexer": "ipython3",
   "version": "3.7.3"
  }
 },
 "nbformat": 4,
 "nbformat_minor": 2
}
