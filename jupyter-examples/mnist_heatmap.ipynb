{
 "cells": [
  {
   "cell_type": "code",
   "execution_count": 2,
   "metadata": {},
   "outputs": [],
   "source": [
    "import sys\n",
    "sys.path.insert(0, \"../src\")\n",
    "sys.path.insert(0, \"..\")\n",
    "import src\n",
    "import torch\n",
    "import matplotlib.pyplot as plt\n",
    "import numpy\n",
    "\n",
    "torch.cuda.empty_cache()"
   ]
  },
  {
   "cell_type": "markdown",
   "metadata": {},
   "source": [
    "This piece of code runs a grid search over layers and states to generate the right panel of Figure #3 (mnist result)\n",
    "The funciton to generate it is defined as:  \n",
    "def run_part_lin(name, start, end, gap , allstates ,deviceId, num_devices, reports = [100,200,400,800,1600], N = 2048):\n",
    "\n",
    "* name- the file where the results will be saved to\n",
    "* start - first layer to start the grid from\n",
    "* end - last leayer to run the grid on\n",
    "* gap - how much layers to jump over for the grid\n",
    "* allstates - the states that will appear on the X axis\n",
    "* deviceId - cuda device to use\n",
    "* num devices - number of devices working  on this job (to balance load between them)\n",
    "* reports - report test accuracy and training accuracy after how many steps?\n",
    "* N- width of the fully connected layers\n",
    "\n",
    "This grid search takes a long time to complete (~ day when distributed).  \n",
    "Using the commented-out code will generate the graph presented in the article.  \n",
    "The uncommented code will generate a more simple heatmap with very little details.\n",
    "To distribute the code, run a similar command with different cur_gpu and total_gpus values (This will not work from single jupyter notebook)"
   ]
  },
  {
   "cell_type": "code",
   "execution_count": 3,
   "metadata": {},
   "outputs": [
    {
     "name": "stdout",
     "output_type": "stream",
     "text": [
      "Iterating over layers: [ 10  35  60  85 110 135]\n",
      "4 states, 10 layers, chi: 0.88114, Mjj: 1.26208\n"
     ]
    },
    {
     "name": "stderr",
     "output_type": "stream",
     "text": [
      "0it [00:00, ?it/s]"
     ]
    },
    {
     "name": "stdout",
     "output_type": "stream",
     "text": [
      "Downloading http://yann.lecun.com/exdb/mnist/train-images-idx3-ubyte.gz to ../data/MNIST/raw/train-images-idx3-ubyte.gz\n"
     ]
    },
    {
     "name": "stderr",
     "output_type": "stream",
     "text": [
      " 98%|█████████▊| 9682944/9912422 [00:12<00:00, 3293383.12it/s]"
     ]
    },
    {
     "name": "stdout",
     "output_type": "stream",
     "text": [
      "Extracting ../data/MNIST/raw/train-images-idx3-ubyte.gz\n"
     ]
    },
    {
     "name": "stderr",
     "output_type": "stream",
     "text": [
      "\n",
      "0it [00:00, ?it/s]\u001b[A"
     ]
    },
    {
     "name": "stdout",
     "output_type": "stream",
     "text": [
      "Downloading http://yann.lecun.com/exdb/mnist/train-labels-idx1-ubyte.gz to ../data/MNIST/raw/train-labels-idx1-ubyte.gz\n"
     ]
    },
    {
     "name": "stderr",
     "output_type": "stream",
     "text": [
      "\n",
      "  0%|          | 0/28881 [00:01<?, ?it/s]\u001b[A\n",
      " 57%|█████▋    | 16384/28881 [00:02<00:00, 118303.99it/s]\u001b[A\n",
      "32768it [00:02, 15472.32it/s]                            \u001b[A\n",
      "0it [00:00, ?it/s]\u001b[A"
     ]
    },
    {
     "name": "stdout",
     "output_type": "stream",
     "text": [
      "Extracting ../data/MNIST/raw/train-labels-idx1-ubyte.gz\n",
      "Downloading http://yann.lecun.com/exdb/mnist/t10k-images-idx3-ubyte.gz to ../data/MNIST/raw/t10k-images-idx3-ubyte.gz\n"
     ]
    },
    {
     "name": "stderr",
     "output_type": "stream",
     "text": [
      "\n",
      "  0%|          | 0/1648877 [00:00<?, ?it/s]\u001b[A\n",
      "  1%|          | 16384/1648877 [00:00<00:16, 99446.01it/s]\u001b[A\n",
      "  2%|▏         | 40960/1648877 [00:00<00:13, 115200.06it/s]\u001b[A\n",
      "  6%|▌         | 98304/1648877 [00:00<00:10, 147405.60it/s]\u001b[A\n",
      "  9%|▉         | 155648/1648877 [00:00<00:08, 183280.98it/s]\u001b[A\n",
      " 13%|█▎        | 221184/1648877 [00:00<00:06, 225279.47it/s]\u001b[A\n",
      " 17%|█▋        | 278528/1648877 [00:01<00:05, 263754.67it/s]\u001b[A\n",
      " 21%|██        | 344064/1648877 [00:01<00:04, 306664.73it/s]\u001b[A\n",
      " 25%|██▌       | 417792/1648877 [00:01<00:03, 348865.14it/s]\u001b[A\n",
      " 30%|██▉       | 491520/1648877 [00:01<00:02, 392682.77it/s]\u001b[A\n",
      " 34%|███▍      | 565248/1648877 [00:01<00:02, 432327.07it/s]\u001b[A\n",
      " 39%|███▉      | 647168/1648877 [00:01<00:02, 473380.06it/s]\u001b[A\n",
      " 44%|████▍     | 729088/1648877 [00:01<00:01, 511531.54it/s]\u001b[A\n",
      " 49%|████▉     | 811008/1648877 [00:02<00:01, 571992.07it/s]\u001b[A\n",
      " 55%|█████▌    | 909312/1648877 [00:02<00:01, 591712.09it/s]\u001b[A\n",
      " 61%|██████    | 999424/1648877 [00:02<00:01, 642494.87it/s]\u001b[A\n",
      " 67%|██████▋   | 1105920/1648877 [00:02<00:00, 647837.42it/s]\u001b[A\n",
      " 74%|███████▎  | 1212416/1648877 [00:02<00:00, 687567.84it/s]\u001b[A\n",
      " 80%|███████▉  | 1318912/1648877 [00:02<00:00, 763637.96it/s]\u001b[A\n",
      " 87%|████████▋ | 1433600/1648877 [00:02<00:00, 795892.07it/s]\u001b[A\n",
      " 94%|█████████▍| 1556480/1648877 [00:02<00:00, 831827.48it/s]\u001b[A\n",
      "1654784it [00:03, 546307.95it/s]                             \u001b[A\n",
      "0it [00:00, ?it/s]\u001b[A"
     ]
    },
    {
     "name": "stdout",
     "output_type": "stream",
     "text": [
      "Extracting ../data/MNIST/raw/t10k-images-idx3-ubyte.gz\n",
      "Downloading http://yann.lecun.com/exdb/mnist/t10k-labels-idx1-ubyte.gz to ../data/MNIST/raw/t10k-labels-idx1-ubyte.gz\n"
     ]
    },
    {
     "name": "stderr",
     "output_type": "stream",
     "text": [
      "\n",
      "  0%|          | 0/4542 [00:00<?, ?it/s]\u001b[A\n",
      "8192it [00:00, 23974.27it/s]            \u001b[A"
     ]
    },
    {
     "name": "stdout",
     "output_type": "stream",
     "text": [
      "Extracting ../data/MNIST/raw/t10k-labels-idx1-ubyte.gz\n",
      "Processing...\n",
      "Done!\n"
     ]
    },
    {
     "name": "stderr",
     "output_type": "stream",
     "text": [
      "9920512it [00:30, 3293383.12it/s]                             "
     ]
    },
    {
     "name": "stdout",
     "output_type": "stream",
     "text": [
      "Duration: 91.80\n",
      "7 states, 10 layers, chi: 0.95313, Mjj: 1.39167\n",
      "Duration: 74.80\n",
      "10 states, 10 layers, chi: 0.97430, Mjj: 1.42639\n",
      "Duration: 84.16\n",
      "4 states, 35 layers, chi: 0.88114, Mjj: 1.26208\n",
      "Duration: 119.08\n",
      "7 states, 35 layers, chi: 0.95313, Mjj: 1.39167\n",
      "Duration: 144.38\n",
      "10 states, 35 layers, chi: 0.97430, Mjj: 1.42639\n",
      "Duration: 166.59\n",
      "4 states, 60 layers, chi: 0.88114, Mjj: 1.26208\n",
      "Duration: 169.10\n",
      "7 states, 60 layers, chi: 0.95313, Mjj: 1.39167\n",
      "Duration: 207.19\n",
      "10 states, 60 layers, chi: 0.97430, Mjj: 1.42639\n",
      "Duration: 242.27\n",
      "4 states, 85 layers, chi: 0.88114, Mjj: 1.26208\n",
      "Duration: 208.79\n",
      "7 states, 85 layers, chi: 0.95313, Mjj: 1.39167\n",
      "Duration: 267.16\n",
      "10 states, 85 layers, chi: 0.97430, Mjj: 1.42639\n",
      "Duration: 317.13\n",
      "4 states, 110 layers, chi: 0.88114, Mjj: 1.26208\n",
      "Duration: 259.35\n",
      "7 states, 110 layers, chi: 0.95313, Mjj: 1.39167\n",
      "Duration: 322.50\n",
      "10 states, 110 layers, chi: 0.97430, Mjj: 1.42639\n",
      "Duration: 406.95\n",
      "4 states, 135 layers, chi: 0.88114, Mjj: 1.26208\n",
      "Duration: 305.94\n",
      "7 states, 135 layers, chi: 0.95313, Mjj: 1.39167\n",
      "Duration: 395.51\n",
      "10 states, 135 layers, chi: 0.97430, Mjj: 1.42639\n",
      "Duration: 486.09\n"
     ]
    }
   ],
   "source": [
    "\n",
    "first_layer = 10\n",
    "last_layer = 135\n",
    "layers_skip = 25\n",
    "cur_gpu = 0\n",
    "total_gpus = 1\n",
    "reports = [100,200,400]\n",
    "\n",
    "##allstates = [3,4,5,6,7,8,9,10,11,12,13,14,15,16]\n",
    "allstates = [4,7,10]\n",
    "##mnist.run_part_lin(\"grid_all_v3\", first_layer, last_layer, layers_skip, allstates , cur_gpu, total_gpus)\n",
    "src.mnist.run_part_lin(\"example_states\", first_layer, last_layer, layers_skip, allstates , cur_gpu, total_gpus, reports = reports, N = 256)\n"
   ]
  },
  {
   "cell_type": "markdown",
   "metadata": {},
   "source": [
    "Generate the heatmaps and more:"
   ]
  },
  {
   "cell_type": "code",
   "execution_count": 11,
   "metadata": {},
   "outputs": [
    {
     "data": {
      "image/png": "[encoded data removed]",
      "text/plain": [
       "<Figure size 360x360 with 3 Axes>"
      ]
     },
     "metadata": {
      "needs_background": "light"
     },
     "output_type": "display_data"
    },
    {
     "data": {
      "image/png": "[encoded data removed]",
      "text/plain": [
       "<Figure size 1080x360 with 3 Axes>"
      ]
     },
     "metadata": {
      "needs_background": "light"
     },
     "output_type": "display_data"
    }
   ],
   "source": [
    "import matplotlib.pyplot as plt\n",
    "\n",
    "results={}\n",
    "if (1):\n",
    "    ##aggregate the distributed results to a single objects\n",
    "    name = \"example_states\"\n",
    "    for i in range(4): ## 4 - maximum number of GPUs supported.\n",
    "        try:\n",
    "            results.update(src.mnist.load_obj(\"%s_%d\"% (name,i)))\n",
    "        except:\n",
    "            continue\n",
    "    src.mnist.save_obj(results,name)\n",
    "\n",
    "if (1):\n",
    "    fig = plt.figure()\n",
    "    src.mnist.showgrid(name=name,steps=100,test=1, fig = fig , subplot=131)\n",
    "    src.mnist.showgrid(name=name,steps=200,test=1, fig = fig , subplot=132)\n",
    "    src.mnist.showgrid(name=name,steps=400,test=1, fig = fig , subplot=133)\n",
    "    plt.show()\n",
    "\n",
    "if (1):\n",
    "    fig = plt.figure()\n",
    "    src.mnist.showContour(name=name,steps=100,test=1, fig = fig , subplot=131, levels=3)\n",
    "    src.mnist.showContour(name=name,steps=200,test=1, fig = fig , subplot=132, levels=3)\n",
    "    src.mnist.showContour(name=name,steps=400,test=1, fig = fig , subplot=133, levels=3)\n",
    "    plt.gcf().set_size_inches(15, 5)\n",
    "\n",
    "    plt.show()\n",
    "\n"
   ]
  },
  {
   "cell_type": "code",
   "execution_count": null,
   "metadata": {},
   "outputs": [],
   "source": []
  }
 ],
 "metadata": {
  "kernelspec": {
   "display_name": "Python 3",
   "language": "python",
   "name": "python3"
  },
  "language_info": {
   "codemirror_mode": {
    "name": "ipython",
    "version": 3
   },
   "file_extension": ".py",
   "mimetype": "text/x-python",
   "name": "python",
   "nbconvert_exporter": "python",
   "pygments_lexer": "ipython3",
   "version": "3.7.3"
  }
 },
 "nbformat": 4,
 "nbformat_minor": 2
}
